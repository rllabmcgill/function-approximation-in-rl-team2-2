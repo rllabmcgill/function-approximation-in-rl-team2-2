{
  "nbformat": 4,
  "nbformat_minor": 0,
  "metadata": {
    "colab": {
      "name": "Assignment #3 - KBRL",
      "version": "0.3.2",
      "views": {},
      "default_view": {},
      "provenance": [],
      "collapsed_sections": []
    },
    "kernelspec": {
      "name": "python3",
      "display_name": "Python 3"
    }
  },
  "cells": [
    {
      "metadata": {
        "id": "bOFp_HlQDaLK",
        "colab_type": "text"
      },
      "cell_type": "markdown",
      "source": [
        "# Assignment\n",
        "- Philip Paquette\n",
        "- Stéphanie Larocque"
      ]
    },
    {
      "metadata": {
        "id": "2oKZuchi_WkR",
        "colab_type": "code",
        "colab": {
          "autoexec": {
            "startup": false,
            "wait_interval": 0
          }
        }
      },
      "cell_type": "code",
      "source": [
        "!pip install -q matplotlib\n",
        "!pip install -q scipy\n",
        "!pip install -q numpy\n",
        "!pip install -q sklearn\n",
        "!pip install -q gym\n",
        "\n",
        "import random\n",
        "import gym\n",
        "import matplotlib.pyplot as plt\n",
        "import numpy as np\n",
        "from sklearn.neighbors import KDTree\n",
        "from scipy.stats import multivariate_normal"
      ],
      "execution_count": 0,
      "outputs": []
    },
    {
      "metadata": {
        "id": "vZvyVYbx_e8Q",
        "colab_type": "code",
        "colab": {
          "autoexec": {
            "startup": false,
            "wait_interval": 0
          }
        }
      },
      "cell_type": "code",
      "source": [
        "def get_q_value(state, action, memory_buffer, trees, k):\n",
        "    \"\"\" Returns the q-value of the (state, action) by querying the memory buffer \"\"\"\n",
        "    # Action not yet in memory buffer\n",
        "    if not trees[action]:\n",
        "        return 0.\n",
        "      \n",
        "    # Applying kernel method\n",
        "    distance, indices = trees[action].query([state], k=k)\n",
        "    sum_kernel = 0.\n",
        "    weighted_q_values = 0.\n",
        "    for indice in indices[0]:\n",
        "        mem_state, mem_target = memory_buffer[action][indice]\n",
        "        kernel = multivariate_normal.pdf(state, mean=mem_state)\n",
        "        sum_kernel += kernel\n",
        "        weighted_q_values += kernel * mem_target\n",
        "\n",
        "    # Finding nearest neighbours and sampling their values\n",
        "    return weighted_q_values / sum_kernel\n",
        "\n",
        "def kernel_based_learning(env_name, nb_episodes=100, start_epsilon=0.45, epsilon=0.10, gamma=1.):\n",
        "    \"\"\" Implements kernel-based reinforcement learning \"\"\"\n",
        "    env = gym.make(env_name)\n",
        "    memory_buffer = {action: [] for action in range(env.action_space.n)}\n",
        "    cum_ep_rewards = []\n",
        "    trajectory_ix = -1\n",
        "    k = 50\n",
        "\n",
        "    # Running a trajectory\n",
        "    while trajectory_ix < nb_episodes:\n",
        "        trajectory_ix += 1\n",
        "        transitions = []\n",
        "        done = False\n",
        "        state = env.reset()\n",
        "        cum_episode_rew = 0.\n",
        "        \n",
        "        # Building trees\n",
        "        trees = {}\n",
        "        for action in memory_buffer:\n",
        "            if len(memory_buffer[action]) < k:\n",
        "                trees[action] = []\n",
        "            else:\n",
        "                trees[action] = KDTree([stored_memory[0] for stored_memory in memory_buffer[action]], leaf_size=k // 2)\n",
        "\n",
        "        # Running until end of episode\n",
        "        while not done:\n",
        "            prob_random = start_epsilon if trajectory_ix < 50 else epsilon\n",
        "            \n",
        "            # Sampling an action\n",
        "            if random.random() < prob_random:\n",
        "                action = random.randrange(0, env.action_space.n)\n",
        "            else:\n",
        "                q_values = {action: get_q_value(state, action, memory_buffer, trees, k) for action in memory_buffer}\n",
        "                max_q_value = max(q_values[action] for action in q_values)\n",
        "                best_actions = [action for action in q_values if q_values[action] == max_q_value]\n",
        "                action = random.choice(best_actions)\n",
        "\n",
        "            # Stepping\n",
        "            next_state, reward, done, _ = env.step(action)\n",
        "            transitions += [(state, action, reward, next_state)]\n",
        "            state = next_state\n",
        "            cum_episode_rew += reward\n",
        "\n",
        "        # Displaying progress\n",
        "        if (trajectory_ix + 1) % 10 == 0:\n",
        "            print('. %d / %d' % (trajectory_ix + 1, nb_episodes))\n",
        "        else:\n",
        "            print('.', end='')\n",
        "        cum_ep_rewards += [cum_episode_rew]\n",
        "\n",
        "        # Updating memory buffer\n",
        "        cum_reward = 0.\n",
        "        for state, action, reward, next_state in reversed(transitions):\n",
        "            cum_reward = gamma * cum_reward + reward\n",
        "            memory_buffer[action] += [(state, cum_reward)]\n",
        "\n",
        "    # Plotting final graph\n",
        "    plt.plot([np.mean(cum_ep_rewards[ix - 25: ix]) for ix in range(25, len(cum_ep_rewards))])\n",
        "    #plt.show()"
      ],
      "execution_count": 0,
      "outputs": []
    },
    {
      "metadata": {
        "id": "_KhvVK1Nwktx",
        "colab_type": "code",
        "colab": {
          "autoexec": {
            "startup": false,
            "wait_interval": 0
          }
        }
      },
      "cell_type": "code",
      "source": [
        ""
      ],
      "execution_count": 0,
      "outputs": []
    },
    {
      "metadata": {
        "id": "DAizCFkf-5PW",
        "colab_type": "text"
      },
      "cell_type": "markdown",
      "source": [
        "# Env 1 : CartPole-v0\n",
        "- CartPole-v0 is a classic RL environment. See here : https://github.com/openai/gym/wiki/CartPole-v0 for more details. The reward received is the number of steps before the pole falls to the ground, with a maximum of 200 time steps. The goal here is thus to obtain 200. \n",
        "- To obtain smooth curves, each point is the average reward for the 25 past trajectories; otherwise it would oscillate too much to get relevant curves. \n",
        "- Each line represent the agent average reward curve through 150 episodes. As we can see below, the average reward becomes between 160 and 180 for each experiment."
      ]
    },
    {
      "metadata": {
        "id": "GaEjp17XDiav",
        "colab_type": "code",
        "colab": {
          "autoexec": {
            "startup": false,
            "wait_interval": 0
          }
        }
      },
      "cell_type": "code",
      "source": [
        ""
      ],
      "execution_count": 0,
      "outputs": []
    },
    {
      "metadata": {
        "id": "JhZFzdhJDig5",
        "colab_type": "code",
        "colab": {
          "autoexec": {
            "startup": false,
            "wait_interval": 0
          }
        }
      },
      "cell_type": "code",
      "source": [
        ""
      ],
      "execution_count": 0,
      "outputs": []
    },
    {
      "metadata": {
        "id": "413wpuEwDij4",
        "colab_type": "code",
        "colab": {
          "autoexec": {
            "startup": false,
            "wait_interval": 0
          }
        }
      },
      "cell_type": "code",
      "source": [
        ""
      ],
      "execution_count": 0,
      "outputs": []
    },
    {
      "metadata": {
        "id": "7r_gYWi2piDv",
        "colab_type": "code",
        "colab": {
          "autoexec": {
            "startup": false,
            "wait_interval": 0
          },
          "output_extras": [
            {
              "item_id": 207
            },
            {
              "item_id": 442
            },
            {
              "item_id": 659
            },
            {
              "item_id": 660
            }
          ],
          "base_uri": "https://localhost:8080/",
          "height": 1787
        },
        "outputId": "40120b8c-b967-4076-bb9d-417689b7492a",
        "executionInfo": {
          "status": "ok",
          "timestamp": 1521326345234,
          "user_tz": 240,
          "elapsed": 1028640,
          "user": {
            "displayName": "Stephanie Larocque",
            "photoUrl": "https://lh3.googleusercontent.com/a/default-user=s128",
            "userId": "115945799390990412097"
          }
        }
      },
      "cell_type": "code",
      "source": [
        "for i in range(5):\n",
        "    kernel_based_learning('CartPole-v0', start_epsilon=0.35, epsilon=0.025, nb_episodes=150)\n",
        "plt.show()"
      ],
      "execution_count": 6,
      "outputs": [
        {
          "output_type": "stream",
          "text": [
            "\u001b[33mWARN: gym.spaces.Box autodetected dtype as <class 'numpy.float32'>. Please provide explicit dtype.\u001b[0m\n",
            ".......... 10 / 150\n",
            ".......... 20 / 150\n",
            ".......... 30 / 150\n",
            ".......... 40 / 150\n",
            ".......... 50 / 150\n",
            ".......... 60 / 150\n",
            ".......... 70 / 150\n",
            ".......... 80 / 150\n",
            ".......... 90 / 150\n",
            ".......... 100 / 150\n",
            ".......... 110 / 150\n",
            ".......... 120 / 150\n",
            ".......... 130 / 150\n",
            ".......... 140 / 150\n",
            ".......... 150 / 150\n",
            ".\u001b[33mWARN: gym.spaces.Box autodetected dtype as <class 'numpy.float32'>. Please provide explicit dtype.\u001b[0m\n",
            ".......... 10 / 150\n",
            ".......... 20 / 150\n",
            ".......... 30 / 150\n",
            ".......... 40 / 150\n",
            ".......... 50 / 150\n",
            ".......... 60 / 150\n",
            ".......... 70 / 150\n",
            ".......... 80 / 150\n",
            ".......... 90 / 150\n",
            ".......... 100 / 150\n",
            "......"
          ],
          "name": "stdout"
        },
        {
          "output_type": "stream",
          "text": [
            ".... 110 / 150\n",
            ".......... 120 / 150\n",
            ".......... 130 / 150\n",
            ".......... 140 / 150\n",
            ".......... 150 / 150\n",
            ".\u001b[33mWARN: gym.spaces.Box autodetected dtype as <class 'numpy.float32'>. Please provide explicit dtype.\u001b[0m\n",
            ".......... 10 / 150\n",
            ".......... 20 / 150\n",
            ".......... 30 / 150\n",
            ".......... 40 / 150\n",
            ".......... 50 / 150\n",
            ".......... 60 / 150\n",
            ".......... 70 / 150\n",
            ".......... 80 / 150\n",
            ".......... 90 / 150\n",
            ".......... 100 / 150\n",
            ".......... 110 / 150\n",
            ".......... 120 / 150\n",
            ".......... 130 / 150\n",
            ".......... 140 / 150\n",
            ".......... 150 / 150\n",
            ".\u001b[33mWARN: gym.spaces.Box autodetected dtype as <class 'numpy.float32'>. Please provide explicit dtype.\u001b[0m\n",
            ".......... 10 / 150\n",
            ".......... 20 / 150\n",
            ".......... 30 / 150\n",
            ".......... 40 / 150\n",
            ".......... 50 / 150\n",
            ".......... 60 / 150\n",
            ".......... 70 / 150\n",
            "...."
          ],
          "name": "stdout"
        },
        {
          "output_type": "stream",
          "text": [
            "...... 80 / 150\n",
            ".......... 90 / 150\n",
            ".......... 100 / 150\n",
            ".......... 110 / 150\n",
            ".......... 120 / 150\n",
            ".......... 130 / 150\n",
            ".......... 140 / 150\n",
            ".......... 150 / 150\n",
            ".\u001b[33mWARN: gym.spaces.Box autodetected dtype as <class 'numpy.float32'>. Please provide explicit dtype.\u001b[0m\n",
            ".......... 10 / 150\n",
            ".......... 20 / 150\n",
            ".......... 30 / 150\n",
            ".......... 40 / 150\n",
            ".......... 50 / 150\n",
            ".......... 60 / 150\n",
            ".......... 70 / 150\n",
            ".......... 80 / 150\n",
            ".......... 90 / 150\n",
            ".......... 100 / 150\n",
            ".......... 110 / 150\n",
            ".......... 120 / 150\n",
            ".......... 130 / 150\n",
            ".......... 140 / 150\n",
            ".......... 150 / 150\n",
            "."
          ],
          "name": "stdout"
        },
        {
          "output_type": "display_data",
          "data": {
            "image/png": "[encoded data removed]",
            "text/plain": [
              "<matplotlib.figure.Figure at 0x7f40f0090dd8>"
            ]
          },
          "metadata": {
            "tags": []
          }
        }
      ]
    },
    {
      "metadata": {
        "id": "EL8cpE-rnacj",
        "colab_type": "code",
        "colab": {
          "autoexec": {
            "startup": false,
            "wait_interval": 0
          }
        }
      },
      "cell_type": "code",
      "source": [
        ""
      ],
      "execution_count": 0,
      "outputs": []
    },
    {
      "metadata": {
        "id": "N7_-tqgAAbXa",
        "colab_type": "text"
      },
      "cell_type": "markdown",
      "source": [
        "# Env 2 : Acrobot-v1\n",
        "- Acrobot-v1 is also a classic RL environment. The reward received is -(number of steps before end of stick touches the goal height). The goal here is thus to obtain the lowest number of steps before achieving the goal, and thus maximizing -(number of steps). \n",
        "- To obtain smooth curves, each point is the average reward for the 25 past trajectories; otherwise it would oscillate too much to get relevant curves. \n",
        "- Each line represent the agent average reward curve through 125 episodes.\n",
        "- As we can see below, the average reward really depends on each trajectory. Sometimes, the agent can't learn at all (stays at -500, the maximum number of steps), while other agents learn how to do it in approximately 150-250 steps instead. Since the action selection is stochastic with an high epsilon, each agent behavior can be really different."
      ]
    },
    {
      "metadata": {
        "id": "Xi7yUL4SfMB-",
        "colab_type": "code",
        "colab": {
          "autoexec": {
            "startup": false,
            "wait_interval": 0
          }
        }
      },
      "cell_type": "code",
      "source": [
        ""
      ],
      "execution_count": 0,
      "outputs": []
    },
    {
      "metadata": {
        "id": "rsVZ1-vnwbtd",
        "colab_type": "code",
        "colab": {
          "autoexec": {
            "startup": false,
            "wait_interval": 0
          },
          "output_extras": [
            {
              "item_id": 247
            },
            {
              "item_id": 495
            },
            {
              "item_id": 626
            },
            {
              "item_id": 627
            }
          ],
          "base_uri": "https://localhost:8080/",
          "height": 1520
        },
        "outputId": "51aee6fb-d771-4567-e839-0258fa0567fa",
        "executionInfo": {
          "status": "ok",
          "timestamp": 1521419488834,
          "user_tz": 240,
          "elapsed": 3010447,
          "user": {
            "displayName": "Stephanie Larocque",
            "photoUrl": "https://lh3.googleusercontent.com/a/default-user=s128",
            "userId": "115945799390990412097"
          }
        }
      },
      "cell_type": "code",
      "source": [
        "for i in range(5):\n",
        "  kernel_based_learning('Acrobot-v1', start_epsilon=0.45, epsilon=0.2, nb_episodes=125)\n",
        "plt.show()"
      ],
      "execution_count": 4,
      "outputs": [
        {
          "output_type": "stream",
          "text": [
            "\u001b[33mWARN: gym.spaces.Box autodetected dtype as <class 'numpy.float32'>. Please provide explicit dtype.\u001b[0m\n",
            ".......... 10 / 125\n",
            ".......... 20 / 125\n",
            ".......... 30 / 125\n",
            ".......... 40 / 125\n",
            ".......... 50 / 125\n",
            ".......... 60 / 125\n",
            ".......... 70 / 125\n",
            ".......... 80 / 125\n",
            ".......... 90 / 125\n",
            ".......... 100 / 125\n",
            ".......... 110 / 125\n",
            ".......... 120 / 125\n",
            "......\u001b[33mWARN: gym.spaces.Box autodetected dtype as <class 'numpy.float32'>. Please provide explicit dtype.\u001b[0m\n",
            ".......... 10 / 125\n",
            ".......... 20 / 125\n",
            ".......... 30 / 125\n",
            ".......... 40 / 125\n",
            ".......... 50 / 125\n",
            ".......... 60 / 125\n",
            ".......... 70 / 125\n",
            ".......... 80 / 125\n",
            ".......... 90 / 125\n",
            ".......... 100 / 125\n",
            ".......... 110 / 125\n",
            ".......... 120 / 125\n",
            ".."
          ],
          "name": "stdout"
        },
        {
          "output_type": "stream",
          "text": [
            "....\u001b[33mWARN: gym.spaces.Box autodetected dtype as <class 'numpy.float32'>. Please provide explicit dtype.\u001b[0m\n",
            ".......... 10 / 125\n",
            ".......... 20 / 125\n",
            ".......... 30 / 125\n",
            ".......... 40 / 125\n",
            ".......... 50 / 125\n",
            ".......... 60 / 125\n",
            ".......... 70 / 125\n",
            ".......... 80 / 125\n",
            ".......... 90 / 125\n",
            ".......... 100 / 125\n",
            ".......... 110 / 125\n",
            ".......... 120 / 125\n",
            "......\u001b[33mWARN: gym.spaces.Box autodetected dtype as <class 'numpy.float32'>. Please provide explicit dtype.\u001b[0m\n",
            ".......... 10 / 125\n",
            ".......... 20 / 125\n",
            ".......... 30 / 125\n",
            ".......... 40 / 125\n",
            ".......... 50 / 125\n",
            ".......... 60 / 125\n",
            ".......... 70 / 125\n",
            ".......... 80 / 125\n",
            ".......... 90 / 125\n",
            ".......... 100 / 125\n",
            ".......... 110 / 125\n",
            ".......... 120 / 125\n"
          ],
          "name": "stdout"
        },
        {
          "output_type": "stream",
          "text": [
            "......\u001b[33mWARN: gym.spaces.Box autodetected dtype as <class 'numpy.float32'>. Please provide explicit dtype.\u001b[0m\n",
            ".......... 10 / 125\n",
            ".......... 20 / 125\n",
            ".......... 30 / 125\n",
            ".......... 40 / 125\n",
            ".......... 50 / 125\n",
            ".......... 60 / 125\n",
            ".......... 70 / 125\n",
            ".......... 80 / 125\n",
            ".......... 90 / 125\n",
            ".......... 100 / 125\n",
            ".......... 110 / 125\n",
            ".......... 120 / 125\n",
            "......"
          ],
          "name": "stdout"
        },
        {
          "output_type": "display_data",
          "data": {
            "image/png": "[encoded data removed]",
            "text/plain": [
              "<matplotlib.figure.Figure at 0x7ff0d1b81a90>"
            ]
          },
          "metadata": {
            "tags": []
          }
        }
      ]
    },
    {
      "metadata": {
        "id": "PRboSi3AogVn",
        "colab_type": "code",
        "colab": {
          "autoexec": {
            "startup": false,
            "wait_interval": 0
          }
        }
      },
      "cell_type": "code",
      "source": [
        ""
      ],
      "execution_count": 0,
      "outputs": []
    },
    {
      "metadata": {
        "id": "tanKKnO8CnCp",
        "colab_type": "text"
      },
      "cell_type": "markdown",
      "source": [
        "# Improvements\n",
        "- Weight the k-neighbors by some decaying parameter when the reward was received a long time ago, since it may not be relevant anymore (with the change in the policy). Otherwise, the agent can get stuck with some really bad approximation for a long time.\n",
        "- We tried using a decaying epsilon for the acrobot environment, but it didn't work out particularly better. Instead, we used a large \"star-epsilon\" for the 50 first episodes and then use another epsilon for the remaining episodes."
      ]
    },
    {
      "metadata": {
        "id": "RhTxzoj5ogYT",
        "colab_type": "code",
        "colab": {
          "autoexec": {
            "startup": false,
            "wait_interval": 0
          }
        }
      },
      "cell_type": "code",
      "source": [
        ""
      ],
      "execution_count": 0,
      "outputs": []
    }
  ]
}